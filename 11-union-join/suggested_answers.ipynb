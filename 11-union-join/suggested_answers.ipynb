{
 "cells": [
  {
   "cell_type": "markdown",
   "metadata": {
    "deletable": false,
    "editable": false
   },
   "source": [
    "# SQL 的五十道練習\n",
    "\n",
    "> 垂直與水平合併\n",
    "\n",
    "[數據交點](https://www.datainpoint.com) | 郭耀仁 <yaojenkuo@datainpoint.com>"
   ]
  },
  {
   "cell_type": "markdown",
   "metadata": {
    "deletable": false,
    "editable": false
   },
   "source": [
    "## 練習題指引\n",
    "\n",
    "- 在每份練習題的開始，都會先將四個學習資料庫載入環境。\n",
    "- 因此 SQL 可以指定四個學習資料庫中的資料表，不需要額外指定資料庫。\n",
    "- 在 SQL 語法起點與 SQL 語法終點這兩個單行註解之間撰寫能夠得到預期結果的 SQL。\n",
    "- 可以先在自己電腦的 SQLiteStudio 或者 DBeaver 寫出跟預期結果相同的 SQL 後再複製貼上到練習題。\n",
    "- 執行測試的方式為點選上方選單的 Kernel -> Restart & Run All -> Restart and Run All Cells。\n",
    "- 可以每寫一題就執行測試，也可以全部寫完再執行測試。\n",
    "- 練習題閒置超過 10 分鐘會自動斷線，這時只要重新點選練習題連結即可重新啟動。"
   ]
  },
  {
   "cell_type": "code",
   "execution_count": 1,
   "metadata": {
    "deletable": false,
    "editable": false
   },
   "outputs": [
    {
     "data": {
      "text/plain": [
       "<sqlite3.Cursor at 0x7fb67f4b0810>"
      ]
     },
     "execution_count": 1,
     "metadata": {},
     "output_type": "execute_result"
    }
   ],
   "source": [
    "import sqlite3\n",
    "import unittest\n",
    "import json\n",
    "import os\n",
    "import numpy as np\n",
    "import pandas as pd\n",
    "conn = sqlite3.connect('../databases/nba.db')\n",
    "conn.execute(\"\"\"ATTACH '../databases/covid19.db' AS covid19\"\"\")\n",
    "conn.execute(\"\"\"ATTACH '../databases/twElection2020.db' AS twElection2020\"\"\")\n",
    "conn.execute(\"\"\"ATTACH '../databases/imdb.db' AS imdb\"\"\")"
   ]
  },
  {
   "cell_type": "markdown",
   "metadata": {},
   "source": [
    "## 35. 從 `covid19` 資料庫查詢截至 2021-03-31 全球前十大確診人數的國家，參考下列的預期查詢結果。\n",
    "\n",
    "- 預期輸入：SQL 查詢語法。\n",
    "- 預期輸出：(10, 2) 的查詢結果。\n",
    "\n",
    "```\n",
    "   Country_Region  total_confirmed\n",
    "0              US         30459802\n",
    "1          Brazil         12748747\n",
    "2           India         12149335\n",
    "3          France          4705068\n",
    "4          Russia          4494234\n",
    "5  United Kingdom          4359982\n",
    "6           Italy          3584899\n",
    "7          Turkey          3317182\n",
    "8           Spain          3284353\n",
    "9         Germany          2843644\n",
    "```"
   ]
  },
  {
   "cell_type": "code",
   "execution_count": 2,
   "metadata": {},
   "outputs": [],
   "source": [
    "find_top_ten_confirmed_country_region_from_covid19 =\\\n",
    "\"\"\"\n",
    "-- SQL 查詢語法起點\n",
    "SELECT lookup_table.Country_Region,\n",
    "       SUM(daily_report.Confirmed) AS total_confirmed\n",
    "  FROM daily_report\n",
    "  JOIN lookup_table\n",
    "    ON daily_report.Combined_Key = lookup_table.Combined_Key\n",
    " GROUP BY lookup_table.Country_Region\n",
    " ORDER BY total_confirmed DESC\n",
    " LIMIT 10;\n",
    "-- SQL 查詢語法終點\n",
    "\"\"\""
   ]
  },
  {
   "cell_type": "markdown",
   "metadata": {},
   "source": [
    "## 36. 從 `twElection2020` 資料庫查詢中國國民黨、民主進步黨與親民黨在不分區立委與區域立委的得票率，參考下列的預期查詢結果。\n",
    "\n",
    "- 預期輸入：SQL 查詢語法。\n",
    "- 預期輸出：(6, 3) 的查詢結果。\n",
    "\n",
    "```\n",
    "   party election  votes_percentage\n",
    "0  中國國民黨    不分區立委            0.3336\n",
    "1  民主進步黨    不分區立委            0.3398\n",
    "2    親民黨    不分區立委            0.0366\n",
    "3  中國國民黨     區域立委            0.4071\n",
    "4  民主進步黨     區域立委            0.4511\n",
    "5    親民黨     區域立委            0.0043\n",
    "```"
   ]
  },
  {
   "cell_type": "code",
   "execution_count": 3,
   "metadata": {},
   "outputs": [],
   "source": [
    "summarize_party_votes_percentages_from_twelection2020 =\\\n",
    "\"\"\"\n",
    "-- SQL 查詢語法起點\n",
    "SELECT parties.party,\n",
    "       '不分區立委' AS election,\n",
    "       ROUND(CAST(SUM(votes) AS REAL) / (SELECT SUM(votes) FROM legislative_at_large), 4) AS votes_percentage\n",
    "  FROM legislative_at_large\n",
    "  JOIN parties\n",
    "    ON legislative_at_large.party_id = parties.id\n",
    " WHERE parties.party IN ('中國國民黨', '民主進步黨', '親民黨')\n",
    " GROUP BY legislative_at_large.party_id\n",
    " UNION\n",
    "SELECT parties.party,\n",
    "       '區域立委' AS election,\n",
    "       ROUND(CAST(SUM(votes) AS REAL) / (SELECT SUM(votes) FROM legislative_regional), 4) AS votes_percentage\n",
    "  FROM legislative_regional\n",
    "  JOIN candidates\n",
    "    ON legislative_regional.candidate_id = candidates.id\n",
    "  JOIN parties\n",
    "    ON candidates.party_id = parties.id\n",
    " WHERE parties.party IN ('中國國民黨', '民主進步黨', '親民黨')\n",
    " GROUP BY parties.id\n",
    " ORDER BY election;\n",
    "-- SQL 查詢語法終點\n",
    "\"\"\""
   ]
  },
  {
   "cell_type": "markdown",
   "metadata": {},
   "source": [
    "## 37. 從 `nba` 資料庫查詢截至 2021-03-31 洛杉磯湖人隊（Los Angeles Lakers）球員的生涯場均得分 `ppg`，參考下列的預期查詢結果。\n",
    "\n",
    "- 預期輸入：SQL 查詢語法。\n",
    "- 預期輸出：(16, 3) 的查詢結果。\n",
    "\n",
    "```\n",
    "             team_name               player_name   ppg\n",
    "0   Los Angeles Lakers              LeBron James  27.0\n",
    "1   Los Angeles Lakers             Anthony Davis  23.9\n",
    "2   Los Angeles Lakers                Kyle Kuzma  15.4\n",
    "3   Los Angeles Lakers            Andre Drummond  14.6\n",
    "4   Los Angeles Lakers                Marc Gasol  14.2\n",
    "5   Los Angeles Lakers           Dennis Schroder  14.2\n",
    "6   Los Angeles Lakers          Montrezl Harrell  13.0\n",
    "7   Los Angeles Lakers           Wesley Matthews  12.7\n",
    "8   Los Angeles Lakers  Kentavious Caldwell-Pope  11.3\n",
    "9   Los Angeles Lakers           Markieff Morris  11.1\n",
    "10  Los Angeles Lakers       Talen Horton-Tucker   7.6\n",
    "11  Los Angeles Lakers              Jared Dudley   7.3\n",
    "12  Los Angeles Lakers               Alex Caruso   5.6\n",
    "13  Los Angeles Lakers          Alfonzo McKinnie   4.0\n",
    "14  Los Angeles Lakers            Devontae Cacok   2.2\n",
    "15  Los Angeles Lakers      Kostas Antetokounmpo   1.1\n",
    "```"
   ]
  },
  {
   "cell_type": "code",
   "execution_count": 4,
   "metadata": {},
   "outputs": [],
   "source": [
    "list_lakers_ppg_from_nba =\\\n",
    "\"\"\"\n",
    "-- SQL 查詢語法起點\n",
    "SELECT teams.fullName AS team_name,\n",
    "       players.firstName || ' ' || players.lastName AS player_name,\n",
    "       career_summaries.ppg\n",
    "  FROM players\n",
    "  JOIN teams\n",
    "    ON players.teamId = teams.teamId\n",
    "  JOIN career_summaries\n",
    "    ON players.personId = career_summaries.personId\n",
    " WHERE teams.nickname = 'Lakers'\n",
    " ORDER BY career_summaries.ppg DESC;\n",
    "-- SQL 查詢語法終點\n",
    "\"\"\""
   ]
  },
  {
   "cell_type": "markdown",
   "metadata": {},
   "source": [
    "## 38. 從 `nba` 資料庫查詢各個球隊的得分王（生涯場均得分 `ppg` 全隊最高）是誰，將查詢結果依隊伍名排序，參考下列的預期查詢結果。\n",
    "\n",
    "- 預期輸入：SQL 查詢語法。\n",
    "- 預期輸出：(30, 3) 的查詢結果。\n",
    "\n",
    "```\n",
    "                      team                   player   ppg\n",
    "0            Atlanta Hawks               Trae Young  24.0\n",
    "1           Boston Celtics             Kemba Walker  19.8\n",
    "2            Brooklyn Nets             Kevin Durant  27.1\n",
    "3        Charlotte Hornets              LaMelo Ball  15.9\n",
    "4            Chicago Bulls              Zach LaVine  18.8\n",
    "5      Cleveland Cavaliers            Collin Sexton  19.7\n",
    "6         Dallas Mavericks              Luka Doncic  25.6\n",
    "7           Denver Nuggets             Nikola Jokic  18.0\n",
    "8          Detroit Pistons             Josh Jackson  12.0\n",
    "9    Golden State Warriors            Stephen Curry  23.8\n",
    "10         Houston Rockets                John Wall  19.0\n",
    "11          Indiana Pacers              T.J. Warren  15.5\n",
    "12             LA Clippers              Paul George  20.1\n",
    "13      Los Angeles Lakers             LeBron James  27.0\n",
    "14       Memphis Grizzlies                Ja Morant  18.4\n",
    "15              Miami Heat           Victor Oladipo  17.6\n",
    "16         Milwaukee Bucks    Giannis Antetokounmpo  20.7\n",
    "17  Minnesota Timberwolves       Karl-Anthony Towns  22.8\n",
    "18    New Orleans Pelicans          Zion Williamson  25.0\n",
    "19         New York Knicks             Derrick Rose  18.5\n",
    "20   Oklahoma City Thunder  Shai Gilgeous-Alexander  16.3\n",
    "21           Orlando Magic              Gary Harris  12.0\n",
    "22      Philadelphia 76ers              Joel Embiid  24.7\n",
    "23            Phoenix Suns             Devin Booker  22.8\n",
    "24  Portland Trail Blazers           Damian Lillard  24.6\n",
    "25        Sacramento Kings             De'Aaron Fox  17.8\n",
    "26       San Antonio Spurs            DeMar DeRozan  20.1\n",
    "27         Toronto Raptors               Kyle Lowry  14.8\n",
    "28               Utah Jazz         Donovan Mitchell  23.2\n",
    "29      Washington Wizards        Russell Westbrook  23.2\n",
    "```"
   ]
  },
  {
   "cell_type": "code",
   "execution_count": 5,
   "metadata": {},
   "outputs": [],
   "source": [
    "list_ppg_leader_by_teams_from_nba =\\\n",
    "\"\"\"\n",
    "-- SQL 查詢語法起點\n",
    "SELECT teams.fullName AS team,\n",
    "       players.firstName || ' ' || players.lastName AS player,\n",
    "       MAX(career_summaries.ppg) AS ppg\n",
    "  FROM players\n",
    "  JOIN teams\n",
    "    ON players.teamId = teams.teamId\n",
    "  JOIN career_summaries\n",
    "    ON players.personId = career_summaries.personId\n",
    " GROUP BY teams.fullName\n",
    " ORDER BY teams.fullName;\n",
    "-- SQL 查詢語法終點\n",
    "\"\"\""
   ]
  },
  {
   "cell_type": "markdown",
   "metadata": {},
   "source": [
    "## 39. 從 `imdb` 資料庫中查詢 Tom Hanks 與 Leonardo DiCaprio 在 IMDb.com 最高評價的 250 部電影中演出哪些電影，依據 `casting` 資料表中的 `ord` 衍生計算欄位 `is_lead_actor` 註記是否為第一主角（`ord` 若為 1 表示為第一主角），將查詢結果依 `release_year` 排序，參考下列的預期查詢結果。\n",
    "\n",
    "- 預期輸入：SQL 查詢語法。\n",
    "- 預期輸出：(12, 4) 的查詢結果。\n",
    "\n",
    "```\n",
    "    release_year                    title               name  is_lead_actor\n",
    "0           1994             Forrest Gump          Tom Hanks              1\n",
    "1           1995                Toy Story          Tom Hanks              1\n",
    "2           1998      Saving Private Ryan          Tom Hanks              1\n",
    "3           1999           The Green Mile          Tom Hanks              1\n",
    "4           2002      Catch Me If You Can  Leonardo DiCaprio              1\n",
    "5           2002      Catch Me If You Can          Tom Hanks              0\n",
    "6           2006             The Departed  Leonardo DiCaprio              1\n",
    "7           2010                Inception  Leonardo DiCaprio              1\n",
    "8           2010              Toy Story 3          Tom Hanks              1\n",
    "9           2010           Shutter Island  Leonardo DiCaprio              1\n",
    "10          2012         Django Unchained  Leonardo DiCaprio              0\n",
    "11          2013  The Wolf of Wall Street  Leonardo DiCaprio              1\n",
    "```"
   ]
  },
  {
   "cell_type": "code",
   "execution_count": 6,
   "metadata": {},
   "outputs": [],
   "source": [
    "list_movies_in_which_tom_and_leonardo_appeared =\\\n",
    "\"\"\"\n",
    "-- SQL 查詢語法起點\n",
    "SELECT movies.release_year,\n",
    "       movies.title,\n",
    "       actors.name,\n",
    "       CASE WHEN casting.ord = 1 THEN 1\n",
    "            ELSE 0 END AS is_lead_actor\n",
    "  FROM actors\n",
    "  JOIN casting\n",
    "    ON actors.id = casting.actor_id\n",
    "  JOIN movies\n",
    "    ON casting.movie_id = movies.id\n",
    " WHERE actors.name IN ('Tom Hanks', 'Leonardo DiCaprio')\n",
    " ORDER BY movies.release_year;\n",
    "-- SQL 查詢語法終點\n",
    "\"\"\""
   ]
  },
  {
   "cell_type": "markdown",
   "metadata": {
    "deletable": false,
    "editable": false
   },
   "source": [
    "## 執行測試！\n",
    "\n",
    "Kernel -> Restart & Run All -> Restart and Run All Cells."
   ]
  },
  {
   "cell_type": "code",
   "execution_count": 7,
   "metadata": {
    "deletable": false,
    "editable": false
   },
   "outputs": [
    {
     "name": "stderr",
     "output_type": "stream",
     "text": [
      "test_35_summarize_party_votes_percentages (__main__.TestUnionJoin) ... ok\n",
      "test_36_summarize_party_votes_percentages_from_twelection2020 (__main__.TestUnionJoin) ... ok\n",
      "test_37_list_lakers_ppg_from_nba (__main__.TestUnionJoin) ... ok\n",
      "test_38_list_ppg_leader_by_teams_from_nba (__main__.TestUnionJoin) ... ok\n",
      "test_39_list_movies_in_which_tom_and_leonardo_appeared (__main__.TestUnionJoin) ... ok\n",
      "\n",
      "----------------------------------------------------------------------\n",
      "Ran 5 tests in 0.459s\n",
      "\n",
      "OK\n"
     ]
    }
   ],
   "source": [
    "class TestUnionJoin(unittest.TestCase):\n",
    "    def test_35_find_top_ten_confirmed_country_region_from_covid19(self):\n",
    "        top_ten_confirmed_country_region_from_covid19 = pd.read_sql(find_top_ten_confirmed_country_region_from_covid19, conn)\n",
    "        self.assertEqual(top_ten_confirmed_country_region_from_covid19.shape, (10, 2))\n",
    "        column_values = set(top_ten_confirmed_country_region_from_covid19.iloc[:, 0].values)\n",
    "        self.assertTrue('US' in column_values)\n",
    "        self.assertTrue('Brazil' in column_values)\n",
    "        self.assertTrue('India' in column_values)\n",
    "        self.assertTrue('Turkey' in column_values)\n",
    "        self.assertTrue('Spain' in column_values)\n",
    "        self.assertTrue('Germany' in column_values)\n",
    "    def test_36_summarize_party_votes_percentages_from_twelection2020(self):\n",
    "        party_votes_percentages_from_twelection2020 = pd.read_sql(summarize_party_votes_percentages_from_twelection2020, conn)\n",
    "        self.assertEqual(party_votes_percentages_from_twelection2020.shape, (6, 3))\n",
    "        parties = set(party_votes_percentages_from_twelection2020.iloc[:, 0].values)\n",
    "        self.assertTrue('中國國民黨' in parties)\n",
    "        self.assertTrue('民主進步黨' in parties)\n",
    "        self.assertTrue('親民黨' in parties)\n",
    "        elections = set(party_votes_percentages_from_twelection2020.iloc[:, 1].values)\n",
    "        self.assertTrue('不分區立委' in elections)\n",
    "        self.assertTrue('區域立委' in elections)\n",
    "    def test_37_list_lakers_ppg_from_nba(self):\n",
    "        lakers_ppg_from_nba = pd.read_sql(list_lakers_ppg_from_nba, conn)\n",
    "        self.assertEqual(lakers_ppg_from_nba.shape, (16, 3))\n",
    "        column_values = set(lakers_ppg_from_nba.iloc[:, 0].values)\n",
    "        self.assertTrue('Los Angeles Lakers' in column_values)\n",
    "        column_values = set(lakers_ppg_from_nba.iloc[:, 1].values)\n",
    "        self.assertTrue('LeBron James' in column_values)\n",
    "        self.assertTrue('Anthony Davis' in column_values)\n",
    "        self.assertTrue('Andre Drummond' in column_values)\n",
    "    def test_38_list_ppg_leader_by_teams_from_nba(self):\n",
    "        ppg_leader_by_teams_from_nba = pd.read_sql(list_ppg_leader_by_teams_from_nba, conn)\n",
    "        self.assertEqual(ppg_leader_by_teams_from_nba.shape, (30, 3))\n",
    "        teams = set(ppg_leader_by_teams_from_nba.iloc[:, 0].values)\n",
    "        self.assertTrue('Boston Celtics' in teams)\n",
    "        self.assertTrue('Los Angeles Lakers' in teams)\n",
    "        self.assertTrue('Philadelphia 76ers' in teams)\n",
    "        players = set(ppg_leader_by_teams_from_nba.iloc[:, 1].values)\n",
    "        self.assertTrue('Kemba Walker' in players)\n",
    "        self.assertTrue('LeBron James' in players)\n",
    "        self.assertTrue('Joel Embiid' in players)\n",
    "    def test_39_list_movies_in_which_tom_and_leonardo_appeared(self):\n",
    "        movies_in_which_tom_and_leonardo_appeared = pd.read_sql(list_movies_in_which_tom_and_leonardo_appeared, conn)\n",
    "        self.assertEqual(movies_in_which_tom_and_leonardo_appeared.shape, (12, 4))\n",
    "        actors = set(movies_in_which_tom_and_leonardo_appeared.iloc[:, 2].values)\n",
    "        self.assertTrue('Tom Hanks' in actors)\n",
    "        self.assertTrue('Leonardo DiCaprio' in actors)\n",
    "        titles = set(movies_in_which_tom_and_leonardo_appeared.iloc[:, 1].values)\n",
    "        self.assertTrue('Forrest Gump' in titles)\n",
    "        self.assertTrue('Saving Private Ryan' in titles)\n",
    "        self.assertTrue('Catch Me If You Can' in titles)\n",
    "        self.assertTrue('Inception' in titles)\n",
    "        self.assertTrue('The Wolf of Wall Street' in titles)\n",
    "\n",
    "suite = unittest.TestLoader().loadTestsFromTestCase(TestUnionJoin)\n",
    "runner = unittest.TextTestRunner(verbosity=2)\n",
    "test_results = runner.run(suite)\n",
    "number_of_failures = len(test_results.failures)\n",
    "number_of_errors = len(test_results.errors)\n",
    "number_of_test_runs = test_results.testsRun\n",
    "number_of_successes = number_of_test_runs - (number_of_failures + number_of_errors)\n",
    "cwd = os.getcwd()\n",
    "folder_name = cwd.split(\"/\")[-1]\n",
    "with open(\"../exercise_index.json\", \"r\") as content:\n",
    "    exercise_index = json.load(content)\n",
    "chapter_name = exercise_index[folder_name]"
   ]
  },
  {
   "cell_type": "code",
   "execution_count": 8,
   "metadata": {
    "deletable": false,
    "editable": false
   },
   "outputs": [
    {
     "name": "stdout",
     "output_type": "stream",
     "text": [
      "您在「垂直與水平合併」章節中的 5 道 SQL 練習答對了 5 題。\n"
     ]
    }
   ],
   "source": [
    "print(\"您在「{}」章節中的 {} 道 SQL 練習答對了 {} 題。\".format(chapter_name, number_of_test_runs, number_of_successes))"
   ]
  }
 ],
 "metadata": {
  "kernelspec": {
   "display_name": "Python Data Analysis",
   "language": "python",
   "name": "pyda"
  },
  "language_info": {
   "codemirror_mode": {
    "name": "ipython",
    "version": 3
   },
   "file_extension": ".py",
   "mimetype": "text/x-python",
   "name": "python",
   "nbconvert_exporter": "python",
   "pygments_lexer": "ipython3",
   "version": "3.6.8"
  }
 },
 "nbformat": 4,
 "nbformat_minor": 4
}
