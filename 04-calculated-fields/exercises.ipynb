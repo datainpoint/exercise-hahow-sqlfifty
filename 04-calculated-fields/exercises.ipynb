{
 "cells": [
  {
   "cell_type": "markdown",
   "metadata": {
    "deletable": false,
    "editable": false
   },
   "source": [
    "# SQL 的五十道練習\n",
    "\n",
    "> 衍生計算欄位\n",
    "\n",
    "[數據交點](https://www.datainpoint.com/) | 郭耀仁 <yaojenkuo@datainpoint.com>"
   ]
  },
  {
   "cell_type": "markdown",
   "metadata": {
    "deletable": false,
    "editable": false
   },
   "source": [
    "## 練習題指引\n",
    "\n",
    "- 在每份練習題的開始，都會先將四個學習資料庫載入環境。\n",
    "- 因此 SQL 可以指定四個學習資料庫中的資料表，不需要額外指定資料庫。\n",
    "- 在 SQL 語法起點與 SQL 語法終點這兩個單行註解之間撰寫能夠得到預期結果的 SQL。\n",
    "- 可以先在自己電腦的 SQLiteStudio 或者 DBeaver 寫出跟預期結果相同的 SQL 後再複製貼上到練習題。\n",
    "- 執行測試的方式為點選上方選單的 Kernel -> Restart & Run All -> Restart and Run All Cells。\n",
    "- 可以每寫一題就執行測試，也可以全部寫完再執行測試。\n",
    "- 練習題閒置超過 10 分鐘會自動斷線，這時只要重新點選練習題連結即可重新啟動。"
   ]
  },
  {
   "cell_type": "code",
   "execution_count": 1,
   "metadata": {
    "deletable": false,
    "editable": false
   },
   "outputs": [
    {
     "data": {
      "text/plain": [
       "<sqlite3.Cursor at 0x7fddcd380a40>"
      ]
     },
     "execution_count": 1,
     "metadata": {},
     "output_type": "execute_result"
    }
   ],
   "source": [
    "import sqlite3\n",
    "import unittest\n",
    "import json\n",
    "import os\n",
    "import numpy as np\n",
    "import pandas as pd\n",
    "conn = sqlite3.connect('../databases/nba.db')\n",
    "conn.execute(\"\"\"ATTACH '../databases/covid19.db' AS covid19\"\"\")\n",
    "conn.execute(\"\"\"ATTACH '../databases/twElection2020.db' AS twElection2020\"\"\")\n",
    "conn.execute(\"\"\"ATTACH '../databases/imdb.db' AS imdb\"\"\")"
   ]
  },
  {
   "cell_type": "markdown",
   "metadata": {},
   "source": [
    "## 06. 從 `covid19` 資料庫的 `daily_report` 資料表根據 `Confirmed`、`Recovered`、`Deaths` 欄位以及下列公式衍生計算欄位 `Active`，參考下列的預期查詢結果。\n",
    "\n",
    "\\begin{equation}\n",
    "\\text{Active} = \\text{Confirmed} - \\text{Recovered} - \\text{Deaths}\n",
    "\\end{equation}\n",
    "\n",
    "- 預期輸入：SQL 查詢語法。\n",
    "- 預期輸出：(3981, 4) 的查詢結果。\n",
    "\n",
    "```\n",
    "      Confirmed  Recovered  Deaths   Active\n",
    "0         56454    51550.0    2484   2420.0\n",
    "1        125157    91271.0    2235  31651.0\n",
    "2        117192    81538.0    3093  32561.0\n",
    "3         12010    11315.0     115    580.0\n",
    "4         22311    20493.0     537   1281.0\n",
    "...         ...        ...     ...      ...\n",
    "3976       2603     2359.0      35    209.0\n",
    "3977     242353   215429.0    2627  24297.0\n",
    "3978       4357     1676.0     888   1793.0\n",
    "3979      88418    84592.0    1208   2618.0\n",
    "3980      36882    34686.0    1523    673.0\n",
    "\n",
    "[3981 rows x 4 columns]\n",
    "```"
   ]
  },
  {
   "cell_type": "code",
   "execution_count": 2,
   "metadata": {},
   "outputs": [],
   "source": [
    "calculate_active_from_daily_report =\\\n",
    "\"\"\"\n",
    "-- SQL 查詢語法起點\n",
    "\n",
    "-- SQL 查詢語法終點\n",
    "\"\"\""
   ]
  },
  {
   "cell_type": "markdown",
   "metadata": {},
   "source": [
    "## 07. 從 `nba` 資料庫的 `players` 資料表依據 `heightMeters`、`weightKilograms` 欄位以及下列公式衍生計算欄位 `bmi`，參考下列的預期查詢結果。\n",
    "\n",
    "\\begin{equation}\n",
    "BMI = \\frac{weight_{kg}}{height_{m}^2}\n",
    "\\end{equation}\n",
    "\n",
    "- 預期輸入：SQL 查詢語法。\n",
    "- 預期輸出：(484, 3) 的查詢結果。\n",
    "\n",
    "```\n",
    "     heightMeters  weightKilograms        bmi\n",
    "0            2.06            113.4  26.722594\n",
    "1            2.01            108.0  26.732012\n",
    "2            2.03            106.6  25.868136\n",
    "3            2.08            120.2  27.782914\n",
    "4            1.98             97.5  24.869911\n",
    "..            ...              ...        ...\n",
    "479          2.01            104.3  25.816193\n",
    "480          2.08            106.1  24.523854\n",
    "481          1.78             88.5  27.932079\n",
    "482          1.98             90.7  23.135394\n",
    "483          1.96             83.9  21.839858\n",
    "\n",
    "[484 rows x 3 columns]\n",
    "```"
   ]
  },
  {
   "cell_type": "code",
   "execution_count": 3,
   "metadata": {},
   "outputs": [],
   "source": [
    "calculate_bmi_from_players =\\\n",
    "\"\"\"\n",
    "-- SQL 查詢語法起點\n",
    "\n",
    "-- SQL 查詢語法終點\n",
    "\"\"\""
   ]
  },
  {
   "cell_type": "markdown",
   "metadata": {},
   "source": [
    "## 08. 從 `nba` 資料庫的 `teams` 資料表連接 `confName`、`divName` 欄位後使用 `DISTINCT` 去除重複值，參考下列的預期查詢結果。\n",
    "\n",
    "- 預期輸入：SQL 查詢語法。\n",
    "- 預期輸出：(6, 1) 的查詢結果。\n",
    "\n",
    "```\n",
    "          conf_div\n",
    "0  East, Southeast\n",
    "1   East, Atlantic\n",
    "2    East, Central\n",
    "3  West, Southwest\n",
    "4  West, Northwest\n",
    "5    West, Pacific\n",
    "```"
   ]
  },
  {
   "cell_type": "code",
   "execution_count": 4,
   "metadata": {},
   "outputs": [],
   "source": [
    "distinct_concatenate_conference_division_from_teams =\\\n",
    "\"\"\"\n",
    "-- SQL 查詢語法起點\n",
    "\n",
    "-- SQL 查詢語法終點\n",
    "\"\"\""
   ]
  },
  {
   "cell_type": "markdown",
   "metadata": {
    "deletable": false,
    "editable": false
   },
   "source": [
    "## 執行測試！\n",
    "\n",
    "Kernel -> Restart & Run All -> Restart and Run All Cells."
   ]
  },
  {
   "cell_type": "code",
   "execution_count": 5,
   "metadata": {
    "deletable": false,
    "editable": false
   },
   "outputs": [
    {
     "name": "stderr",
     "output_type": "stream",
     "text": [
      "test_06_calculate_active_from_daily_report (__main__.TestCalculatedFields) ... ERROR\n",
      "test_07_calculate_bmi_from_players (__main__.TestCalculatedFields) ... ERROR\n",
      "test_08_distinct_concatenate_conference_division_from_teams (__main__.TestCalculatedFields) ... ERROR\n",
      "\n",
      "======================================================================\n",
      "ERROR: test_06_calculate_active_from_daily_report (__main__.TestCalculatedFields)\n",
      "----------------------------------------------------------------------\n",
      "Traceback (most recent call last):\n",
      "  File \"<ipython-input-5-21a27723a9b8>\", line 3, in test_06_calculate_active_from_daily_report\n",
      "    active_from_daily_report = pd.read_sql(calculate_active_from_daily_report, conn)\n",
      "  File \"/Users/kuoyaojen/pyda/lib/python3.6/site-packages/pandas/io/sql.py\", line 489, in read_sql\n",
      "    chunksize=chunksize,\n",
      "  File \"/Users/kuoyaojen/pyda/lib/python3.6/site-packages/pandas/io/sql.py\", line 1728, in read_query\n",
      "    columns = [col_desc[0] for col_desc in cursor.description]\n",
      "TypeError: 'NoneType' object is not iterable\n",
      "\n",
      "======================================================================\n",
      "ERROR: test_07_calculate_bmi_from_players (__main__.TestCalculatedFields)\n",
      "----------------------------------------------------------------------\n",
      "Traceback (most recent call last):\n",
      "  File \"<ipython-input-5-21a27723a9b8>\", line 8, in test_07_calculate_bmi_from_players\n",
      "    bmi_from_players = pd.read_sql(calculate_bmi_from_players, conn)\n",
      "  File \"/Users/kuoyaojen/pyda/lib/python3.6/site-packages/pandas/io/sql.py\", line 489, in read_sql\n",
      "    chunksize=chunksize,\n",
      "  File \"/Users/kuoyaojen/pyda/lib/python3.6/site-packages/pandas/io/sql.py\", line 1728, in read_query\n",
      "    columns = [col_desc[0] for col_desc in cursor.description]\n",
      "TypeError: 'NoneType' object is not iterable\n",
      "\n",
      "======================================================================\n",
      "ERROR: test_08_distinct_concatenate_conference_division_from_teams (__main__.TestCalculatedFields)\n",
      "----------------------------------------------------------------------\n",
      "Traceback (most recent call last):\n",
      "  File \"<ipython-input-5-21a27723a9b8>\", line 13, in test_08_distinct_concatenate_conference_division_from_teams\n",
      "    concatenate_conference_division_from_teams = pd.read_sql(distinct_concatenate_conference_division_from_teams, conn)\n",
      "  File \"/Users/kuoyaojen/pyda/lib/python3.6/site-packages/pandas/io/sql.py\", line 489, in read_sql\n",
      "    chunksize=chunksize,\n",
      "  File \"/Users/kuoyaojen/pyda/lib/python3.6/site-packages/pandas/io/sql.py\", line 1728, in read_query\n",
      "    columns = [col_desc[0] for col_desc in cursor.description]\n",
      "TypeError: 'NoneType' object is not iterable\n",
      "\n",
      "----------------------------------------------------------------------\n",
      "Ran 3 tests in 0.139s\n",
      "\n",
      "FAILED (errors=3)\n"
     ]
    }
   ],
   "source": [
    "class TestCalculatedFields(unittest.TestCase):\n",
    "    def test_06_calculate_active_from_daily_report(self):\n",
    "        active_from_daily_report = pd.read_sql(calculate_active_from_daily_report, conn)\n",
    "        self.assertEqual(active_from_daily_report.shape, (3981, 4))\n",
    "        column_names = set(active_from_daily_report.columns.values)\n",
    "        self.assertTrue('Active' in column_names)\n",
    "    def test_07_calculate_bmi_from_players(self):\n",
    "        bmi_from_players = pd.read_sql(calculate_bmi_from_players, conn)\n",
    "        self.assertEqual(bmi_from_players.shape, (484, 3))\n",
    "        column_names = set(bmi_from_players.columns.values)\n",
    "        self.assertTrue('bmi' in column_names)\n",
    "    def test_08_distinct_concatenate_conference_division_from_teams(self):\n",
    "        concatenate_conference_division_from_teams = pd.read_sql(distinct_concatenate_conference_division_from_teams, conn)\n",
    "        self.assertEqual(concatenate_conference_division_from_teams.shape, (6, 1))\n",
    "\n",
    "suite = unittest.TestLoader().loadTestsFromTestCase(TestCalculatedFields)\n",
    "runner = unittest.TextTestRunner(verbosity=2)\n",
    "test_results = runner.run(suite)\n",
    "number_of_failures = len(test_results.failures)\n",
    "number_of_errors = len(test_results.errors)\n",
    "number_of_test_runs = test_results.testsRun\n",
    "number_of_successes = number_of_test_runs - (number_of_failures + number_of_errors)\n",
    "cwd = os.getcwd()\n",
    "folder_name = cwd.split(\"/\")[-1]\n",
    "with open(\"../exercise_index.json\", \"r\") as content:\n",
    "    exercise_index = json.load(content)\n",
    "chapter_name = exercise_index[folder_name]"
   ]
  },
  {
   "cell_type": "code",
   "execution_count": 6,
   "metadata": {
    "deletable": false,
    "editable": false
   },
   "outputs": [
    {
     "name": "stdout",
     "output_type": "stream",
     "text": [
      "您在「衍生計算欄位」章節中的 3 道 SQL 練習答對了 0 題。\n"
     ]
    }
   ],
   "source": [
    "print(\"您在「{}」章節中的 {} 道 SQL 練習答對了 {} 題。\".format(chapter_name, number_of_test_runs, number_of_successes))"
   ]
  }
 ],
 "metadata": {
  "celltoolbar": "Edit Metadata",
  "kernelspec": {
   "display_name": "Python Fifty Plus",
   "language": "python",
   "name": "pythonfiftyplus"
  },
  "language_info": {
   "codemirror_mode": {
    "name": "ipython",
    "version": 3
   },
   "file_extension": ".py",
   "mimetype": "text/x-python",
   "name": "python",
   "nbconvert_exporter": "python",
   "pygments_lexer": "ipython3",
   "version": "3.9.7"
  }
 },
 "nbformat": 4,
 "nbformat_minor": 4
}
