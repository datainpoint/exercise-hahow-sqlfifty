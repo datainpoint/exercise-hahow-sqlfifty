{
 "cells": [
  {
   "cell_type": "markdown",
   "metadata": {
    "deletable": false,
    "editable": false
   },
   "source": [
    "# SQL 的五十道練習\n",
    "\n",
    "> 排序查詢結果\n",
    "\n",
    "[數據交點](https://www.datainpoint.com) | 郭耀仁 <yaojenkuo@datainpoint.com>"
   ]
  },
  {
   "cell_type": "markdown",
   "metadata": {
    "deletable": false,
    "editable": false
   },
   "source": [
    "## 練習題指引\n",
    "\n",
    "- 在每份練習題的開始，都會先將四個學習資料庫載入環境。\n",
    "- 因此 SQL 可以指定四個學習資料庫中的資料表，不需要額外指定資料庫。\n",
    "- 在 SQL 語法起點與 SQL 語法終點這兩個單行註解之間撰寫能夠得到預期結果的 SQL。\n",
    "- 可以先在自己電腦的 SQLiteStudio 或者 DBeaver 寫出跟預期結果相同的 SQL 後再複製貼上到練習題。\n",
    "- 執行測試的方式為點選上方選單的 Kernel -> Restart & Run All -> Restart and Run All Cells。\n",
    "- 可以每寫一題就執行測試，也可以全部寫完再執行測試。\n",
    "- 練習題閒置超過 10 分鐘會自動斷線，這時只要重新點選練習題連結即可重新啟動。"
   ]
  },
  {
   "cell_type": "code",
   "execution_count": 1,
   "metadata": {
    "deletable": false,
    "editable": false
   },
   "outputs": [
    {
     "data": {
      "text/plain": [
       "<sqlite3.Cursor at 0x7f96cd3727a0>"
      ]
     },
     "execution_count": 1,
     "metadata": {},
     "output_type": "execute_result"
    }
   ],
   "source": [
    "import sqlite3\n",
    "import unittest\n",
    "import json\n",
    "import os\n",
    "import numpy as np\n",
    "import pandas as pd\n",
    "conn = sqlite3.connect('../databases/nba.db')\n",
    "conn.execute(\"\"\"ATTACH '../databases/covid19.db' AS covid19\"\"\")\n",
    "conn.execute(\"\"\"ATTACH '../databases/twElection2020.db' AS twElection2020\"\"\")\n",
    "conn.execute(\"\"\"ATTACH '../databases/imdb.db' AS imdb\"\"\")"
   ]
  },
  {
   "cell_type": "markdown",
   "metadata": {},
   "source": [
    "## 14. 從 `nba` 資料庫的 `career_summaries` 資料表中依據 `ppg`（Points per game，場均得分）找出場均得分最高的 10 名球員，參考下列的預期查詢結果。\n",
    "\n",
    "- 預期輸入：SQL 查詢語法。\n",
    "- 預期輸出：(10, 2) 的查詢結果。\n",
    "\n",
    "```\n",
    "   personId   ppg\n",
    "0    201142  27.1\n",
    "1      2544  27.0\n",
    "2   1629029  25.6\n",
    "3    201935  25.2\n",
    "4   1629627  25.0\n",
    "5    203954  24.7\n",
    "6    203081  24.6\n",
    "7   1629027  24.0\n",
    "8    203076  23.9\n",
    "9    201939  23.8\n",
    "```"
   ]
  },
  {
   "cell_type": "code",
   "execution_count": 2,
   "metadata": {},
   "outputs": [],
   "source": [
    "find_top_ten_ppg_from_career_summaries =\\\n",
    "\"\"\"\n",
    "-- SQL 查詢語法起點\n",
    "\n",
    "-- SQL 查詢語法終點\n",
    "\"\"\""
   ]
  },
  {
   "cell_type": "markdown",
   "metadata": {},
   "source": [
    "## 15. 從 `covid19` 資料庫的 `time_series` 資料表中依據 `Daily_Cases` 找出前十個單日新增確診數最多的日期，參考下列的預期查詢結果。\n",
    "\n",
    "- 預期輸入：SQL 查詢語法。\n",
    "- 預期輸出：(10, 3) 的查詢結果。\n",
    "\n",
    "```\n",
    "         Date Country_Region  Daily_Cases\n",
    "0  2020-12-10         Turkey       823225\n",
    "1  2021-01-02             US       300308\n",
    "2  2021-01-08             US       293268\n",
    "3  2021-01-07             US       278261\n",
    "4  2021-01-09             US       262622\n",
    "5  2021-01-06             US       255424\n",
    "6  2020-12-18             US       251961\n",
    "7  2020-12-16             US       246702\n",
    "8  2021-01-15             US       242734\n",
    "9  2020-12-11             US       239976\n",
    "```"
   ]
  },
  {
   "cell_type": "code",
   "execution_count": 3,
   "metadata": {},
   "outputs": [],
   "source": [
    "find_top_ten_daily_case_from_time_series =\\\n",
    "\"\"\"\n",
    "-- SQL 查詢語法起點\n",
    "\n",
    "-- SQL 查詢語法終點\n",
    "\"\"\""
   ]
  },
  {
   "cell_type": "markdown",
   "metadata": {},
   "source": [
    "## 16. 從 `nba` 資料庫的 `career_summaries` 資料表中依據 `assists`、`turnovers` 欄位以及下列公式衍生計算助攻失誤比，使用 CAST 函數讓衍生計算欄位的資料類型為浮點數 REAL，找出助攻失誤比最高的前 10 名球員，參考下列的預期查詢結果。\n",
    "\n",
    "\\begin{equation}\n",
    "\\text{Assists Turnover Ratio} = \\frac{Assists}{Turnovers}\n",
    "\\end{equation}\n",
    "\n",
    "- 預期輸入：SQL 查詢語法。\n",
    "- 預期輸出：(10, 3) 的查詢結果。\n",
    "\n",
    "```\n",
    "   personId  assists  turnovers\n",
    "0   1630216       10          1\n",
    "1   1630184       69         13\n",
    "2   1628420      682        131\n",
    "3   1629657       20          4\n",
    "4   1626145     1292        269\n",
    "5   1629162      252         62\n",
    "6   1629603        4          1\n",
    "7    101108    10051       2572\n",
    "8   1630201       30          8\n",
    "9   1627853      441        120\n",
    "```"
   ]
  },
  {
   "cell_type": "code",
   "execution_count": 4,
   "metadata": {},
   "outputs": [],
   "source": [
    "find_top_ten_ast_to_ratio_from_career_summaries =\\\n",
    "\"\"\"\n",
    "-- SQL 查詢語法起點\n",
    "\n",
    "-- SQL 查詢語法終點\n",
    "\"\"\""
   ]
  },
  {
   "cell_type": "markdown",
   "metadata": {
    "deletable": false,
    "editable": false
   },
   "source": [
    "## 執行測試！\n",
    "\n",
    "Kernel -> Restart & Run All -> Restart and Run All Cells."
   ]
  },
  {
   "cell_type": "code",
   "execution_count": 5,
   "metadata": {
    "deletable": false,
    "editable": false
   },
   "outputs": [
    {
     "name": "stderr",
     "output_type": "stream",
     "text": [
      "test_14_find_top_ten_ppg_from_career_summaries (__main__.TestOrderBy) ... ERROR\n",
      "test_15_find_top_ten_daily_case_from_time_series (__main__.TestOrderBy) ... ERROR\n",
      "test_16_find_top_ten_ast_to_ratio_from_career_summaries (__main__.TestOrderBy) ... ERROR\n",
      "\n",
      "======================================================================\n",
      "ERROR: test_14_find_top_ten_ppg_from_career_summaries (__main__.TestOrderBy)\n",
      "----------------------------------------------------------------------\n",
      "Traceback (most recent call last):\n",
      "  File \"<ipython-input-5-83a92ddd8502>\", line 3, in test_14_find_top_ten_ppg_from_career_summaries\n",
      "    top_ten_ppg_from_career_summaries = pd.read_sql(find_top_ten_ppg_from_career_summaries, conn)\n",
      "  File \"/Users/kuoyaojen/pyda/lib/python3.6/site-packages/pandas/io/sql.py\", line 489, in read_sql\n",
      "    chunksize=chunksize,\n",
      "  File \"/Users/kuoyaojen/pyda/lib/python3.6/site-packages/pandas/io/sql.py\", line 1728, in read_query\n",
      "    columns = [col_desc[0] for col_desc in cursor.description]\n",
      "TypeError: 'NoneType' object is not iterable\n",
      "\n",
      "======================================================================\n",
      "ERROR: test_15_find_top_ten_daily_case_from_time_series (__main__.TestOrderBy)\n",
      "----------------------------------------------------------------------\n",
      "Traceback (most recent call last):\n",
      "  File \"<ipython-input-5-83a92ddd8502>\", line 8, in test_15_find_top_ten_daily_case_from_time_series\n",
      "    top_ten_daily_case_from_time_series = pd.read_sql(find_top_ten_daily_case_from_time_series, conn)\n",
      "  File \"/Users/kuoyaojen/pyda/lib/python3.6/site-packages/pandas/io/sql.py\", line 489, in read_sql\n",
      "    chunksize=chunksize,\n",
      "  File \"/Users/kuoyaojen/pyda/lib/python3.6/site-packages/pandas/io/sql.py\", line 1728, in read_query\n",
      "    columns = [col_desc[0] for col_desc in cursor.description]\n",
      "TypeError: 'NoneType' object is not iterable\n",
      "\n",
      "======================================================================\n",
      "ERROR: test_16_find_top_ten_ast_to_ratio_from_career_summaries (__main__.TestOrderBy)\n",
      "----------------------------------------------------------------------\n",
      "Traceback (most recent call last):\n",
      "  File \"<ipython-input-5-83a92ddd8502>\", line 15, in test_16_find_top_ten_ast_to_ratio_from_career_summaries\n",
      "    top_ten_ast_to_ratio_from_career_summaries = pd.read_sql(find_top_ten_ast_to_ratio_from_career_summaries, conn)\n",
      "  File \"/Users/kuoyaojen/pyda/lib/python3.6/site-packages/pandas/io/sql.py\", line 489, in read_sql\n",
      "    chunksize=chunksize,\n",
      "  File \"/Users/kuoyaojen/pyda/lib/python3.6/site-packages/pandas/io/sql.py\", line 1728, in read_query\n",
      "    columns = [col_desc[0] for col_desc in cursor.description]\n",
      "TypeError: 'NoneType' object is not iterable\n",
      "\n",
      "----------------------------------------------------------------------\n",
      "Ran 3 tests in 0.145s\n",
      "\n",
      "FAILED (errors=3)\n"
     ]
    }
   ],
   "source": [
    "class TestOrderBy(unittest.TestCase):\n",
    "    def test_14_find_top_ten_ppg_from_career_summaries(self):\n",
    "        top_ten_ppg_from_career_summaries = pd.read_sql(find_top_ten_ppg_from_career_summaries, conn)\n",
    "        self.assertEqual(top_ten_ppg_from_career_summaries.shape, ((10, 2)))\n",
    "        np.testing.assert_equal(top_ten_ppg_from_career_summaries['personId'].values[:5],\n",
    "                               np.array([201142, 2544, 1629029, 201935, 1629627]))\n",
    "    def test_15_find_top_ten_daily_case_from_time_series(self):\n",
    "        top_ten_daily_case_from_time_series = pd.read_sql(find_top_ten_daily_case_from_time_series, conn)\n",
    "        self.assertEqual(top_ten_daily_case_from_time_series.shape, ((10, 3)))\n",
    "        np.testing.assert_equal(top_ten_daily_case_from_time_series['Date'].values[:5],\n",
    "                               np.array(['2020-12-10', '2021-01-02', '2021-01-08', '2021-01-07', '2021-01-09']))\n",
    "        np.testing.assert_equal(top_ten_daily_case_from_time_series['Country_Region'].values[:5],\n",
    "                               np.array(['Turkey', 'US', 'US', 'US', 'US']))\n",
    "    def test_16_find_top_ten_ast_to_ratio_from_career_summaries(self):\n",
    "        top_ten_ast_to_ratio_from_career_summaries = pd.read_sql(find_top_ten_ast_to_ratio_from_career_summaries, conn)\n",
    "        self.assertEqual(top_ten_ast_to_ratio_from_career_summaries.shape, (10, 3))\n",
    "        np.testing.assert_equal(top_ten_ast_to_ratio_from_career_summaries['personId'].values[:5],\n",
    "                                np.array([1630216, 1630184, 1628420, 1629657, 1626145]))\n",
    "\n",
    "suite = unittest.TestLoader().loadTestsFromTestCase(TestOrderBy)\n",
    "runner = unittest.TextTestRunner(verbosity=2)\n",
    "test_results = runner.run(suite)\n",
    "number_of_failures = len(test_results.failures)\n",
    "number_of_errors = len(test_results.errors)\n",
    "number_of_test_runs = test_results.testsRun\n",
    "number_of_successes = number_of_test_runs - (number_of_failures + number_of_errors)\n",
    "cwd = os.getcwd()\n",
    "folder_name = cwd.split(\"/\")[-1]\n",
    "with open(\"../exercise_index.json\", \"r\") as content:\n",
    "    exercise_index = json.load(content)\n",
    "chapter_name = exercise_index[folder_name]"
   ]
  },
  {
   "cell_type": "code",
   "execution_count": 6,
   "metadata": {
    "deletable": false,
    "editable": false
   },
   "outputs": [
    {
     "name": "stdout",
     "output_type": "stream",
     "text": [
      "您在「排序查詢結果」章節中的 3 道 SQL 練習答對了 0 題。\n"
     ]
    }
   ],
   "source": [
    "print(\"您在「{}」章節中的 {} 道 SQL 練習答對了 {} 題。\".format(chapter_name, number_of_test_runs, number_of_successes))"
   ]
  }
 ],
 "metadata": {
  "kernelspec": {
   "display_name": "Python Data Analysis",
   "language": "python",
   "name": "pyda"
  },
  "language_info": {
   "codemirror_mode": {
    "name": "ipython",
    "version": 3
   },
   "file_extension": ".py",
   "mimetype": "text/x-python",
   "name": "python",
   "nbconvert_exporter": "python",
   "pygments_lexer": "ipython3",
   "version": "3.6.8"
  }
 },
 "nbformat": 4,
 "nbformat_minor": 4
}
