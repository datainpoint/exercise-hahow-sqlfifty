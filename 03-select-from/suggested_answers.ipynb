{
 "cells": [
  {
   "cell_type": "markdown",
   "metadata": {
    "deletable": false,
    "editable": false
   },
   "source": [
    "# SQL 的五十道練習\n",
    "\n",
    "> 從資料表選擇\n",
    "\n",
    "[數據交點](https://www.datainpoint.com/) | 郭耀仁 <yaojenkuo@datainpoint.com>"
   ]
  },
  {
   "cell_type": "markdown",
   "metadata": {
    "deletable": false,
    "editable": false
   },
   "source": [
    "## 練習題指引\n",
    "\n",
    "- 在每份練習題的開始，都會先將四個學習資料庫載入環境。\n",
    "- 因此 SQL 可以指定四個學習資料庫中的資料表，不需要額外指定資料庫。\n",
    "- 在 SQL 語法起點與 SQL 語法終點這兩個單行註解之間撰寫能夠得到預期結果的 SQL。\n",
    "- 可以先在自己電腦的 SQLiteStudio 或者 DBeaver 寫出跟預期結果相同的 SQL 後再複製貼上到練習題。\n",
    "- 執行測試的方式為點選上方選單的 Kernel -> Restart & Run All -> Restart and Run All Cells。\n",
    "- 可以每寫一題就執行測試，也可以全部寫完再執行測試。\n",
    "- 練習題閒置超過 10 分鐘會自動斷線，這時只要重新點選練習題連結即可重新啟動。"
   ]
  },
  {
   "cell_type": "code",
   "execution_count": 1,
   "metadata": {
    "deletable": false,
    "editable": false
   },
   "outputs": [
    {
     "data": {
      "text/plain": [
       "<sqlite3.Cursor at 0x7f8d93266a40>"
      ]
     },
     "execution_count": 1,
     "metadata": {},
     "output_type": "execute_result"
    }
   ],
   "source": [
    "import sqlite3\n",
    "import unittest\n",
    "import json\n",
    "import os\n",
    "import numpy as np\n",
    "import pandas as pd\n",
    "conn = sqlite3.connect('../databases/nba.db')\n",
    "conn.execute(\"\"\"ATTACH '../databases/covid19.db' AS covid19\"\"\")\n",
    "conn.execute(\"\"\"ATTACH '../databases/twElection2020.db' AS twElection2020\"\"\")\n",
    "conn.execute(\"\"\"ATTACH '../databases/imdb.db' AS imdb\"\"\")"
   ]
  },
  {
   "cell_type": "markdown",
   "metadata": {},
   "source": [
    "## 01. 從 `twElection2020` 資料庫的 `admin_regions` 資料表選擇所有變數，並且使用 `LIMIT 5` 顯示前五列資料，參考下列的預期查詢結果。\n",
    "\n",
    "- 預期輸入：SQL 查詢語法。\n",
    "- 預期輸出：(5, 4) 的查詢結果。\n",
    "\n",
    "```\n",
    "   id county town village\n",
    "0   1    南投縣  中寮鄉     中寮村\n",
    "1   2    南投縣  中寮鄉     內城村\n",
    "2   3    南投縣  中寮鄉     八仙村\n",
    "3   4    南投縣  中寮鄉     和興村\n",
    "4   5    南投縣  中寮鄉     崁頂村\n",
    "```"
   ]
  },
  {
   "cell_type": "code",
   "execution_count": 2,
   "metadata": {},
   "outputs": [],
   "source": [
    "select_all_from_admin_regions =\\\n",
    "\"\"\"\n",
    "-- SQL 查詢語法起點\n",
    "SELECT *\n",
    "  FROM admin_regions\n",
    " LIMIT 5;\n",
    "-- SQL 查詢語法終點\n",
    "\"\"\""
   ]
  },
  {
   "cell_type": "markdown",
   "metadata": {},
   "source": [
    "## 02. 從 `nba` 資料庫的球隊資料表 `teams` 中選擇 `confName`、`divName`、`fullName` 三個變數，並且使用 `LIMIT 10` 顯示前十列資料，參考下列預期的查詢結果。\n",
    "\n",
    "- 預期輸入：SQL 查詢語法。\n",
    "- 預期輸出：(10, 3) 的查詢結果。\n",
    "\n",
    "```\n",
    "  confName    divName               fullName\n",
    "0     East  Southeast          Atlanta Hawks\n",
    "1     East   Atlantic         Boston Celtics\n",
    "2     East    Central    Cleveland Cavaliers\n",
    "3     West  Southwest   New Orleans Pelicans\n",
    "4     East    Central          Chicago Bulls\n",
    "5     West  Southwest       Dallas Mavericks\n",
    "6     West  Northwest         Denver Nuggets\n",
    "7     West    Pacific  Golden State Warriors\n",
    "8     West  Southwest        Houston Rockets\n",
    "9     West    Pacific            LA Clippers\n",
    "```"
   ]
  },
  {
   "cell_type": "code",
   "execution_count": 3,
   "metadata": {},
   "outputs": [],
   "source": [
    "select_variables_from_teams =\\\n",
    "\"\"\"\n",
    "-- SQL 查詢語法起點\n",
    "SELECT confName,\n",
    "       divName,\n",
    "       fullName\n",
    "  FROM teams\n",
    " LIMIT 10;\n",
    "-- SQL 查詢語法終點\n",
    "\"\"\""
   ]
  },
  {
   "cell_type": "markdown",
   "metadata": {},
   "source": [
    "## 03. 從 `nba` 資料庫的球員資料表 `players` 中選擇 `firstName`、`lastName` 兩個變數，並依序取別名為 `first_name`、`last_name`，使用 `LIMIT 5` 顯示前五列資料，參考下列預期的查詢結果。\n",
    "\n",
    "- 預期輸入：SQL 查詢語法。\n",
    "- 預期輸出：(5, 2) 的查詢結果。\n",
    "\n",
    "```\n",
    "  first_name last_name\n",
    "0     LeBron     James\n",
    "1    Carmelo   Anthony\n",
    "2     Udonis    Haslem\n",
    "3     Dwight    Howard\n",
    "4      Andre  Iguodala\n",
    "```"
   ]
  },
  {
   "cell_type": "code",
   "execution_count": 4,
   "metadata": {},
   "outputs": [],
   "source": [
    "select_variables_as_from_players =\\\n",
    "\"\"\"\n",
    "-- SQL 查詢語法起點\n",
    "SELECT firstName AS first_name,\n",
    "       lastName AS last_name\n",
    "  FROM players\n",
    " LIMIT 5;\n",
    "-- SQL 查詢語法終點\n",
    "\"\"\""
   ]
  },
  {
   "cell_type": "markdown",
   "metadata": {},
   "source": [
    "## 04. 從 `twElection2020` 資料庫的 `admin_regions` 資料表選擇「不重複」的縣市（`county`），參考下列的預期查詢結果。\n",
    "\n",
    "- 預期輸入：SQL 查詢語法。\n",
    "- 預期輸出：(22, 1) 的查詢結果。\n",
    "\n",
    "```\n",
    "   distinct_counties\n",
    "0                南投縣\n",
    "1                嘉義市\n",
    "2                嘉義縣\n",
    "3                基隆市\n",
    "4                宜蘭縣\n",
    "5                屏東縣\n",
    "6                彰化縣\n",
    "7                新北市\n",
    "8                新竹市\n",
    "9                新竹縣\n",
    "10               桃園市\n",
    "11               澎湖縣\n",
    "12               臺中市\n",
    "13               臺北市\n",
    "14               臺南市\n",
    "15               臺東縣\n",
    "16               花蓮縣\n",
    "17               苗栗縣\n",
    "18               連江縣\n",
    "19               金門縣\n",
    "20               雲林縣\n",
    "21               高雄市\n",
    "```"
   ]
  },
  {
   "cell_type": "code",
   "execution_count": 5,
   "metadata": {},
   "outputs": [],
   "source": [
    "select_distinct_county_from_admin_regions =\\\n",
    "\"\"\"\n",
    "-- SQL 查詢語法起點\n",
    "SELECT DISTINCT county AS distinct_counties\n",
    "  FROM admin_regions;\n",
    "-- SQL 查詢語法終點\n",
    "\"\"\""
   ]
  },
  {
   "cell_type": "markdown",
   "metadata": {},
   "source": [
    "## 05. 從 `nba` 資料庫的 `teams` 資料表選擇「不重複」的分組（`divName`），參考下列的預期查詢結果。\n",
    "\n",
    "- 預期輸入：SQL 查詢語法。\n",
    "- 預期輸出：(6, 1) 的查詢結果。\n",
    "\n",
    "```\n",
    "  distinct_divisions\n",
    "0          Southeast\n",
    "1           Atlantic\n",
    "2            Central\n",
    "3          Southwest\n",
    "4          Northwest\n",
    "5            Pacific\n",
    "```"
   ]
  },
  {
   "cell_type": "code",
   "execution_count": 6,
   "metadata": {},
   "outputs": [],
   "source": [
    "select_distinct_division_from_teams =\\\n",
    "\"\"\"\n",
    "-- SQL 查詢語法起點\n",
    "SELECT DISTINCT divName AS distinct_divisions\n",
    "  FROM teams;\n",
    "-- SQL 查詢語法終點\n",
    "\"\"\""
   ]
  },
  {
   "cell_type": "markdown",
   "metadata": {
    "deletable": false,
    "editable": false
   },
   "source": [
    "## 執行測試！\n",
    "\n",
    "Kernel -> Restart & Run All -> Restart and Run All Cells."
   ]
  },
  {
   "cell_type": "code",
   "execution_count": 7,
   "metadata": {
    "deletable": false,
    "editable": false
   },
   "outputs": [
    {
     "name": "stderr",
     "output_type": "stream",
     "text": [
      "test_01_select_all_from_admin_regions (__main__.TestSelectFrom) ... ok\n",
      "test_02_select_variables_from_teams (__main__.TestSelectFrom) ... ok\n",
      "test_03_select_variables_as_from_players (__main__.TestSelectFrom) ... ok\n",
      "test_04_select_distinct_county_from_admin_regions (__main__.TestSelectFrom) ... ok\n",
      "test_05_select_distinct_division_from_teams (__main__.TestSelectFrom) ... ok\n",
      "\n",
      "----------------------------------------------------------------------\n",
      "Ran 5 tests in 0.159s\n",
      "\n",
      "OK\n"
     ]
    }
   ],
   "source": [
    "class TestSelectFrom(unittest.TestCase):\n",
    "    def test_01_select_all_from_admin_regions(self):\n",
    "        all_from_admin_regions = pd.read_sql(select_all_from_admin_regions, conn)\n",
    "        self.assertEqual(all_from_admin_regions.shape, (5, 4))\n",
    "    def test_02_select_variables_from_teams(self):\n",
    "        variables_from_teams = pd.read_sql(select_variables_from_teams, conn)\n",
    "        self.assertEqual(variables_from_teams.shape, (10, 3))\n",
    "        np.testing.assert_equal(variables_from_teams.columns.values,\n",
    "                               np.array(['confName', 'divName', 'fullName']))\n",
    "    def test_03_select_variables_as_from_players(self):\n",
    "        variables_as_from_players = pd.read_sql(select_variables_as_from_players, conn)\n",
    "        self.assertEqual(variables_as_from_players.shape, (5, 2))\n",
    "        np.testing.assert_equal(variables_as_from_players.columns.values,\n",
    "                               np.array(['first_name', 'last_name']))\n",
    "    def test_04_select_distinct_county_from_admin_regions(self):\n",
    "        distinct_county_from_admin_regions = pd.read_sql(select_distinct_county_from_admin_regions, conn)\n",
    "        self.assertEqual(distinct_county_from_admin_regions.shape, (22, 1))\n",
    "    def test_05_select_distinct_division_from_teams(self):\n",
    "        distinct_division_from_teams = pd.read_sql(select_distinct_division_from_teams, conn)\n",
    "        self.assertEqual(distinct_division_from_teams.shape, (6, 1))\n",
    "\n",
    "suite = unittest.TestLoader().loadTestsFromTestCase(TestSelectFrom)\n",
    "runner = unittest.TextTestRunner(verbosity=2)\n",
    "test_results = runner.run(suite)\n",
    "number_of_failures = len(test_results.failures)\n",
    "number_of_errors = len(test_results.errors)\n",
    "number_of_test_runs = test_results.testsRun\n",
    "number_of_successes = number_of_test_runs - (number_of_failures + number_of_errors)\n",
    "cwd = os.getcwd()\n",
    "folder_name = cwd.split(\"/\")[-1]\n",
    "with open(\"../exercise_index.json\", \"r\") as content:\n",
    "    exercise_index = json.load(content)\n",
    "chapter_name = exercise_index[folder_name]"
   ]
  },
  {
   "cell_type": "code",
   "execution_count": 8,
   "metadata": {
    "deletable": false,
    "editable": false
   },
   "outputs": [
    {
     "name": "stdout",
     "output_type": "stream",
     "text": [
      "您在「從資料表選擇」章節中的 5 道 SQL 練習答對了 5 題。\n"
     ]
    }
   ],
   "source": [
    "print(\"您在「{}」章節中的 {} 道 SQL 練習答對了 {} 題。\".format(chapter_name, number_of_test_runs, number_of_successes))"
   ]
  }
 ],
 "metadata": {
  "kernelspec": {
   "display_name": "Python Data Analysis",
   "language": "python",
   "name": "pyda"
  },
  "language_info": {
   "codemirror_mode": {
    "name": "ipython",
    "version": 3
   },
   "file_extension": ".py",
   "mimetype": "text/x-python",
   "name": "python",
   "nbconvert_exporter": "python",
   "pygments_lexer": "ipython3",
   "version": "3.6.8"
  }
 },
 "nbformat": 4,
 "nbformat_minor": 4
}
